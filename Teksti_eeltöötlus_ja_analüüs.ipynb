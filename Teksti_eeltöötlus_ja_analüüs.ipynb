{
  "nbformat": 4,
  "nbformat_minor": 0,
  "metadata": {
    "colab": {
      "name": "Teksti eeltöötlus ja analüüs",
      "provenance": [],
      "collapsed_sections": [],
      "include_colab_link": true
    },
    "kernelspec": {
      "name": "python3",
      "display_name": "Python 3"
    }
  },
  "cells": [
    {
      "cell_type": "markdown",
      "metadata": {
        "id": "view-in-github",
        "colab_type": "text"
      },
      "source": [
        "<a href=\"https://colab.research.google.com/github/taunoe/jupyter-notebooks/blob/main/Teksti_eelt%C3%B6%C3%B6tlus_ja_anal%C3%BC%C3%BCs.ipynb\" target=\"_parent\"><img src=\"https://colab.research.google.com/assets/colab-badge.svg\" alt=\"Open In Colab\"/></a>"
      ]
    },
    {
      "cell_type": "markdown",
      "metadata": {
        "id": "GInfrjKUYV50"
      },
      "source": [
        "# Teksti eeltöötlus ja analüüs\n",
        "*Praktilise näite autor: Mark Fišel*\n",
        "\n",
        "EstNLTK on Pythoni teek, mis implementeerib eestikeelse teksti automaatset töötlemist. Allolevad koodijupid näitavad, kuidas teksti **sõnestada, lausestada ning leida sõnade algvorme ja sõnaliike.**\n",
        "\n",
        "Esimene käsk installib EstNLTK teegi meie vihiku virtuaalsesse keskkonda."
      ]
    },
    {
      "cell_type": "code",
      "metadata": {
        "id": "pAOUhNtu5DCB",
        "colab": {
          "base_uri": "https://localhost:8080/"
        },
        "outputId": "c2a57182-3e03-4f2c-ca19-806f53de2a9d"
      },
      "source": [
        "!pip install -i https://test.pypi.org/simple/ --extra-index-url https://pypi.org/simple  estnltk==1.6.7beta"
      ],
      "execution_count": 2,
      "outputs": [
        {
          "output_type": "stream",
          "text": [
            "Looking in indexes: https://test.pypi.org/simple/, https://pypi.org/simple\n",
            "Collecting estnltk==1.6.7beta\n",
            "\u001b[?25l  Downloading https://test-files.pythonhosted.org/packages/5d/a3/aff6246047f1b67b1263275b7cf8fbe304c2d254936177bf2a7006fe6b3e/estnltk-1.6.7b0-cp37-cp37m-manylinux2014_x86_64.whl (99.4MB)\n",
            "\u001b[K     |████████████████████████████████| 99.4MB 90kB/s \n",
            "\u001b[?25hRequirement already satisfied: regex>=2015.07.19 in /usr/local/lib/python3.7/dist-packages (from estnltk==1.6.7beta) (2019.12.20)\n",
            "Requirement already satisfied: pandas>=1.1.5; python_version > \"3.6\" in /usr/local/lib/python3.7/dist-packages (from estnltk==1.6.7beta) (1.1.5)\n",
            "Collecting python-crfsuite>=0.8.3\n",
            "\u001b[?25l  Downloading https://files.pythonhosted.org/packages/79/47/58f16c46506139f17de4630dbcfb877ce41a6355a1bbf3c443edb9708429/python_crfsuite-0.9.7-cp37-cp37m-manylinux1_x86_64.whl (743kB)\n",
            "\u001b[K     |████████████████████████████████| 747kB 5.7MB/s \n",
            "\u001b[?25hRequirement already satisfied: networkx in /usr/local/lib/python3.7/dist-packages (from estnltk==1.6.7beta) (2.5.1)\n",
            "Requirement already satisfied: matplotlib in /usr/local/lib/python3.7/dist-packages (from estnltk==1.6.7beta) (3.2.2)\n",
            "Collecting conllu>=3.1.1; python_version >= \"3.6\"\n",
            "  Downloading https://files.pythonhosted.org/packages/ae/be/be6959c3ff2dbfdd87de4be0ccdff577835b5d08b1d25bf7fd4aaf0d7add/conllu-4.4-py2.py3-none-any.whl\n",
            "Requirement already satisfied: requests in /usr/local/lib/python3.7/dist-packages (from estnltk==1.6.7beta) (2.23.0)\n",
            "Requirement already satisfied: tqdm in /usr/local/lib/python3.7/dist-packages (from estnltk==1.6.7beta) (4.41.1)\n",
            "Requirement already satisfied: lxml in /usr/local/lib/python3.7/dist-packages (from estnltk==1.6.7beta) (4.2.6)\n",
            "Requirement already satisfied: ipython in /usr/local/lib/python3.7/dist-packages (from estnltk==1.6.7beta) (5.5.0)\n",
            "Collecting cached-property>=1.2.0\n",
            "  Downloading https://files.pythonhosted.org/packages/48/19/f2090f7dad41e225c7f2326e4cfe6fff49e57dedb5b53636c9551f86b069/cached_property-1.5.2-py2.py3-none-any.whl\n",
            "Requirement already satisfied: nltk>=3.0.4 in /usr/local/lib/python3.7/dist-packages (from estnltk==1.6.7beta) (3.2.5)\n",
            "Requirement already satisfied: html5lib in /usr/local/lib/python3.7/dist-packages (from estnltk==1.6.7beta) (1.0.1)\n",
            "Requirement already satisfied: bs4 in /usr/local/lib/python3.7/dist-packages (from estnltk==1.6.7beta) (0.0.1)\n",
            "Requirement already satisfied: python-dateutil>=2.7.3 in /usr/local/lib/python3.7/dist-packages (from pandas>=1.1.5; python_version > \"3.6\"->estnltk==1.6.7beta) (2.8.1)\n",
            "Requirement already satisfied: pytz>=2017.2 in /usr/local/lib/python3.7/dist-packages (from pandas>=1.1.5; python_version > \"3.6\"->estnltk==1.6.7beta) (2018.9)\n",
            "Requirement already satisfied: numpy>=1.15.4 in /usr/local/lib/python3.7/dist-packages (from pandas>=1.1.5; python_version > \"3.6\"->estnltk==1.6.7beta) (1.19.5)\n",
            "Requirement already satisfied: decorator<5,>=4.3 in /usr/local/lib/python3.7/dist-packages (from networkx->estnltk==1.6.7beta) (4.4.2)\n",
            "Requirement already satisfied: pyparsing!=2.0.4,!=2.1.2,!=2.1.6,>=2.0.1 in /usr/local/lib/python3.7/dist-packages (from matplotlib->estnltk==1.6.7beta) (2.4.7)\n",
            "Requirement already satisfied: cycler>=0.10 in /usr/local/lib/python3.7/dist-packages (from matplotlib->estnltk==1.6.7beta) (0.10.0)\n",
            "Requirement already satisfied: kiwisolver>=1.0.1 in /usr/local/lib/python3.7/dist-packages (from matplotlib->estnltk==1.6.7beta) (1.3.1)\n",
            "Requirement already satisfied: idna<3,>=2.5 in /usr/local/lib/python3.7/dist-packages (from requests->estnltk==1.6.7beta) (2.10)\n",
            "Requirement already satisfied: certifi>=2017.4.17 in /usr/local/lib/python3.7/dist-packages (from requests->estnltk==1.6.7beta) (2020.12.5)\n",
            "Requirement already satisfied: urllib3!=1.25.0,!=1.25.1,<1.26,>=1.21.1 in /usr/local/lib/python3.7/dist-packages (from requests->estnltk==1.6.7beta) (1.24.3)\n",
            "Requirement already satisfied: chardet<4,>=3.0.2 in /usr/local/lib/python3.7/dist-packages (from requests->estnltk==1.6.7beta) (3.0.4)\n",
            "Requirement already satisfied: pickleshare in /usr/local/lib/python3.7/dist-packages (from ipython->estnltk==1.6.7beta) (0.7.5)\n",
            "Requirement already satisfied: setuptools>=18.5 in /usr/local/lib/python3.7/dist-packages (from ipython->estnltk==1.6.7beta) (54.2.0)\n",
            "Requirement already satisfied: traitlets>=4.2 in /usr/local/lib/python3.7/dist-packages (from ipython->estnltk==1.6.7beta) (5.0.5)\n",
            "Requirement already satisfied: pexpect; sys_platform != \"win32\" in /usr/local/lib/python3.7/dist-packages (from ipython->estnltk==1.6.7beta) (4.8.0)\n",
            "Requirement already satisfied: pygments in /usr/local/lib/python3.7/dist-packages (from ipython->estnltk==1.6.7beta) (2.6.1)\n",
            "Requirement already satisfied: prompt-toolkit<2.0.0,>=1.0.4 in /usr/local/lib/python3.7/dist-packages (from ipython->estnltk==1.6.7beta) (1.0.18)\n",
            "Requirement already satisfied: simplegeneric>0.8 in /usr/local/lib/python3.7/dist-packages (from ipython->estnltk==1.6.7beta) (0.8.1)\n",
            "Requirement already satisfied: six in /usr/local/lib/python3.7/dist-packages (from nltk>=3.0.4->estnltk==1.6.7beta) (1.15.0)\n",
            "Requirement already satisfied: webencodings in /usr/local/lib/python3.7/dist-packages (from html5lib->estnltk==1.6.7beta) (0.5.1)\n",
            "Requirement already satisfied: beautifulsoup4 in /usr/local/lib/python3.7/dist-packages (from bs4->estnltk==1.6.7beta) (4.6.3)\n",
            "Requirement already satisfied: ipython-genutils in /usr/local/lib/python3.7/dist-packages (from traitlets>=4.2->ipython->estnltk==1.6.7beta) (0.2.0)\n",
            "Requirement already satisfied: ptyprocess>=0.5 in /usr/local/lib/python3.7/dist-packages (from pexpect; sys_platform != \"win32\"->ipython->estnltk==1.6.7beta) (0.7.0)\n",
            "Requirement already satisfied: wcwidth in /usr/local/lib/python3.7/dist-packages (from prompt-toolkit<2.0.0,>=1.0.4->ipython->estnltk==1.6.7beta) (0.2.5)\n",
            "Installing collected packages: python-crfsuite, conllu, cached-property, estnltk\n",
            "Successfully installed cached-property-1.5.2 conllu-4.4 estnltk-1.6.7b0 python-crfsuite-0.9.7\n"
          ],
          "name": "stdout"
        }
      ]
    },
    {
      "cell_type": "markdown",
      "metadata": {
        "id": "FfBHlLH1ZrKN"
      },
      "source": [
        "Edasi salvestame Pythoni muutujasse jupi teksti ühest hiljutisest [Sirbi artiklist](https://sirp.ee/s1-artiklid/c5-muusika/kultuurkapitali-eristipendium-muusikavaldkonnas/)."
      ]
    },
    {
      "cell_type": "code",
      "metadata": {
        "id": "j0u4ClX9FIY3"
      },
      "source": [
        "toortekst = \"\"\"Turvasin oma ratsu taha kinni peetud rühma, kui Draama ja tema ratsanik lagendikel mürasid, et stiihia algajaid ratsasõpru kaasa ei viiks.\"\"\""
      ],
      "execution_count": 3,
      "outputs": []
    },
    {
      "cell_type": "markdown",
      "metadata": {
        "id": "TwPXh-KgaCuc"
      },
      "source": [
        "EstNLTK abil jagame teksti lauseteks ja need laused omakorda sõnedeks (eraldiseisvateks sõnadeks, kirjavahemärkideks jne)."
      ]
    },
    {
      "cell_type": "code",
      "metadata": {
        "id": "3IjHaIShaN-d",
        "colab": {
          "base_uri": "https://localhost:8080/"
        },
        "outputId": "b687ad02-50e8-49ba-d2ec-4661ddc5003f"
      },
      "source": [
        "from estnltk import Text\n",
        "\n",
        "sisseloetud_tekst = Text(toortekst) # loeme teksti sisse\n",
        "_ = sisseloetud_tekst.tag_layer() # käivitame sisse loetud teksti analüüsi\n",
        "\n",
        "for lause in sisseloetud_tekst.sentences:\n",
        "  print(\" \".join([w.text for w in lause])) # võtame iga sõne tekstiesituse ning eraldame sõned tühikutega (sh. ka komad ja punktid)"
      ],
      "execution_count": 4,
      "outputs": [
        {
          "output_type": "stream",
          "text": [
            "[nltk_data] Downloading package punkt to /root/nltk_data...\n",
            "[nltk_data]   Unzipping tokenizers/punkt.zip.\n",
            "Turvasin oma ratsu taha kinni peetud rühma , kui Draama ja tema ratsanik lagendikel mürasid , et stiihia algajaid ratsasõpru kaasa ei viiks .\n"
          ],
          "name": "stdout"
        }
      ]
    },
    {
      "cell_type": "markdown",
      "metadata": {
        "id": "PDeOiEQ7ialO"
      },
      "source": [
        "Nüüd leiame esimese lause sõnade algvormid ja sõnaliigid.\n",
        "\n"
      ]
    },
    {
      "cell_type": "markdown",
      "metadata": {
        "id": "pL90kusNFQGA"
      },
      "source": [
        ""
      ]
    },
    {
      "cell_type": "code",
      "metadata": {
        "id": "E6E_8U73blqV",
        "colab": {
          "base_uri": "https://localhost:8080/"
        },
        "outputId": "810f5679-93de-4838-cd6f-ebbaf25b1e9a"
      },
      "source": [
        "lause = sisseloetud_tekst.sentences[0]\n",
        "\n",
        "sõnaliikide_nimetused = { 'A': 'omadussõna', 'C': 'omadussõna', 'D': 'määrsõna',\n",
        "  'G': 'genitiivatribuut', 'H': 'pärisnimi', 'I': 'hüüdsõna', 'J': 'sidesõna', 'K': 'kaassõna',\n",
        "  'N': 'põhiarvsõna', 'O': 'järgarvsõna', 'P': 'asesõna', 'S': 'nimisõna', 'U': 'omadussõna',\n",
        "  'V': 'tegusõna', 'X': 'tegusõna partikkel', 'Y': 'lühend', 'Z': 'lausemärk' }\n",
        "\n",
        "for sõna in lause:\n",
        "  sõne = sõna.text\n",
        "  algvorm = sõna.morph_analysis.lemma[0]\n",
        "  toorsõnaliik = sõna.morph_analysis.partofspeech[0]\n",
        "  sõnaliik = sõnaliikide_nimetused[toorsõnaliik]\n",
        "  print(\"{0:20} ({1}, {2})\".format(sõne, sõnaliik, algvorm))"
      ],
      "execution_count": 5,
      "outputs": [
        {
          "output_type": "stream",
          "text": [
            "Turvasin             (tegusõna, turvama)\n",
            "oma                  (asesõna, oma)\n",
            "ratsu                (nimisõna, ratsu)\n",
            "taha                 (kaassõna, taha)\n",
            "kinni                (määrsõna, kinni)\n",
            "peetud               (tegusõna, peetuma)\n",
            "rühma                (nimisõna, rühm)\n",
            ",                    (lausemärk, ,)\n",
            "kui                  (määrsõna, kui)\n",
            "Draama               (pärisnimi, Draama)\n",
            "ja                   (sidesõna, ja)\n",
            "tema                 (asesõna, tema)\n",
            "ratsanik             (nimisõna, ratsanik)\n",
            "lagendikel           (nimisõna, lagendik)\n",
            "mürasid              (tegusõna, mürama)\n",
            ",                    (lausemärk, ,)\n",
            "et                   (sidesõna, et)\n",
            "stiihia              (nimisõna, stiihia)\n",
            "algajaid             (nimisõna, algaja)\n",
            "ratsasõpru           (nimisõna, ratsasõber)\n",
            "kaasa                (määrsõna, kaasa)\n",
            "ei                   (tegusõna, ei)\n",
            "viiks                (tegusõna, viima)\n",
            ".                    (lausemärk, .)\n"
          ],
          "name": "stdout"
        }
      ]
    },
    {
      "cell_type": "markdown",
      "metadata": {
        "id": "O2p77esojErf"
      },
      "source": [
        "Asendades käesoleva Colabi alguses olevat teksti (muutujas \"toortekst\") enda poolt välja mõeldud lausetega, saate otsida näiteid sellest, kuidas sõnaliikide märgendaja eksib. Mõelge, millised kohad võiksid olla veaohtlikud. Edu!"
      ]
    }
  ]
}