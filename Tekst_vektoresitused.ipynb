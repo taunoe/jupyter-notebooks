{
  "nbformat": 4,
  "nbformat_minor": 0,
  "metadata": {
    "colab": {
      "name": "Tekst: vektoresitused",
      "provenance": [],
      "collapsed_sections": [],
      "include_colab_link": true
    },
    "kernelspec": {
      "name": "python3",
      "display_name": "Python 3"
    }
  },
  "cells": [
    {
      "cell_type": "markdown",
      "metadata": {
        "id": "view-in-github",
        "colab_type": "text"
      },
      "source": [
        "<a href=\"https://colab.research.google.com/github/taunoe/jupyter-notebooks/blob/main/Tekst_vektoresitused.ipynb\" target=\"_parent\"><img src=\"https://colab.research.google.com/assets/colab-badge.svg\" alt=\"Open In Colab\"/></a>"
      ]
    },
    {
      "cell_type": "markdown",
      "metadata": {
        "id": "GInfrjKUYV50"
      },
      "source": [
        "# Tekst: vektoresitused\n",
        "*Praktilise näite autor: Mark Fišel*\n",
        "\n",
        "Kaks lähenemist sõnade tähenduste modelleerimisele: käsitsi koostatud semantiline võrk WordNet ja automaatselt õpitud word2vec vektorid. EstNLTK 1.6 ei toeta veel eestikeelset WordNet'i ja Google Colab ei toeta EstNLTK 1.4 :-( seega, tutvustame siin vektoresitusi, mida õpib word2vec >:-)\n",
        "\n",
        "Kõigepealt laeme alla sama tekstikorpuse nagu 6. ülesandes. See sisaldab ainult toorteksti ilma mingisuguste märgenditeta."
      ]
    },
    {
      "cell_type": "code",
      "metadata": {
        "id": "pAOUhNtu5DCB",
        "colab": {
          "base_uri": "https://localhost:8080/"
        },
        "outputId": "7c28eb53-a456-458c-cb36-5abdcf6b9d90"
      },
      "source": [
        "!wget http://data.statmt.org/wmt18/translation-task/news.2015.et.shuffled.deduped.gz\n",
        "!gunzip news.2015.et.shuffled.deduped.gz\n",
        "!wc -lw news.2015.et.shuffled.deduped"
      ],
      "execution_count": 1,
      "outputs": [
        {
          "output_type": "stream",
          "text": [
            "--2021-04-14 06:07:06--  http://data.statmt.org/wmt18/translation-task/news.2015.et.shuffled.deduped.gz\n",
            "Resolving data.statmt.org (data.statmt.org)... 129.215.197.184\n",
            "Connecting to data.statmt.org (data.statmt.org)|129.215.197.184|:80... connected.\n",
            "HTTP request sent, awaiting response... 200 OK\n",
            "Length: 44528040 (42M) [application/x-gzip]\n",
            "Saving to: ‘news.2015.et.shuffled.deduped.gz’\n",
            "\n",
            "news.2015.et.shuffl 100%[===================>]  42.46M  13.8MB/s    in 3.1s    \n",
            "\n",
            "2021-04-14 06:07:09 (13.8 MB/s) - ‘news.2015.et.shuffled.deduped.gz’ saved [44528040/44528040]\n",
            "\n",
            "   962663  13002539 news.2015.et.shuffled.deduped\n"
          ],
          "name": "stdout"
        }
      ]
    },
    {
      "cell_type": "markdown",
      "metadata": {
        "id": "ZdiG5qEt5BWb"
      },
      "source": [
        "Seejärel loeme korpuse sisse. Sellel korral väldime EstNLTK sõnestamist, kuna see on ajamahukam ja sõnavektorite loomisel pole algvorme vaja. Seega eemaldame ainult komad, punktid jm punktuatsiooni. Lisaks teisendame kõik tähed alumisse registrisse, näiteks \"Jaagu\" asemel jääb väikese tähega \"jaagu\".\n",
        "\n",
        "Lõpuks vaatame mitu lauset meil treenimishulgas on."
      ]
    },
    {
      "cell_type": "code",
      "metadata": {
        "id": "JdrjYabWrbOl",
        "colab": {
          "base_uri": "https://localhost:8080/"
        },
        "outputId": "fee3b3c1-32d7-435b-c9ae-3840f991a9d9"
      },
      "source": [
        "def lihtne_sõnastaja(lause):\n",
        "  return [sõne.lower().strip('.,;:-\"\\'!?') for sõne in lause.strip().split()]\n",
        "\n",
        "with open('news.2015.et.shuffled.deduped', 'r') as tekstifail:\n",
        "  treenimishulk = [lihtne_sõnastaja(lause) for lause in tekstifail]\n",
        "\n",
        "print(len(treenimishulk), \"lauset\")"
      ],
      "execution_count": 2,
      "outputs": [
        {
          "output_type": "stream",
          "text": [
            "962663 lauset\n"
          ],
          "name": "stdout"
        }
      ]
    },
    {
      "cell_type": "markdown",
      "metadata": {
        "id": "6I6_OyL85c_v"
      },
      "source": [
        "Seejärel treenime word2vec mudeli. See on implementeeritud teegis \"gensim\". Treenimise protsess võtab umbes 7 minutit."
      ]
    },
    {
      "cell_type": "code",
      "metadata": {
        "id": "lpTdAe7urWl3",
        "colab": {
          "base_uri": "https://localhost:8080/"
        },
        "outputId": "d317558c-1f68-41c0-8296-8871addae6da"
      },
      "source": [
        "from datetime import datetime\n",
        "from gensim.models import Word2Vec\n",
        "\n",
        "print(\"Algus:\", datetime.now())\n",
        "\n",
        "mudel = Word2Vec(sentences=treenimishulk[:1000000], sg=1) # ainult 1 milj. lauset, et se protsess liiga kaua ei kestaks\n",
        "\n",
        "print(\"Lõpp: \", datetime.now())"
      ],
      "execution_count": 3,
      "outputs": [
        {
          "output_type": "stream",
          "text": [
            "Algus: 2021-04-14 06:07:35.029814\n",
            "Lõpp:  2021-04-14 06:13:59.929252\n"
          ],
          "name": "stdout"
        }
      ]
    },
    {
      "cell_type": "markdown",
      "metadata": {
        "id": "HCouPKDI5t4Y"
      },
      "source": [
        "Kõik! Word2vec mudel on valmis. Nüüd saame õpitud vektoresitusi vaadates võrrelda, kui sarnased sõnad omavahel on. Tuletame meelde, et ainus infoallikas vektoresituste õppimiseks oli tavaline tekst eestikeelsetest uudistest ja et need mudelid defineerivad sarnasust kui samas kontekstis (samade naabersõnade läheduses) esinemist.\n",
        "\n",
        "**Esimene harjutus:** vaatame välja valitud sõnapaaride sarnasusi!"
      ]
    },
    {
      "cell_type": "code",
      "metadata": {
        "id": "cGq53c2kuLN9",
        "colab": {
          "base_uri": "https://localhost:8080/"
        },
        "outputId": "04d6885c-ac65-440d-c5ba-6b2dafe707d4"
      },
      "source": [
        "print(\"kuninga ja röövli sarnasus:\", mudel.wv.similarity(\"kuningas\", \"röövel\"))\n",
        "print(\"kuninga ja kuninganna sarnasus:\", mudel.wv.similarity(\"kuningas\", \"kuninganna\"))\n",
        "\n",
        "print(\"\")\n",
        "paarid = \"\"\"kass kiisu\n",
        "kass kassipoeg\n",
        "kass taim\n",
        "kass tubli\n",
        "koer tubli\n",
        "laud laua\n",
        "laud laul\"\"\"\n",
        "\n",
        "for paar in paarid.split(\"\\n\"):\n",
        "  üks_sõna, teine_sõna = paar.split(\" \")\n",
        "  print(üks_sõna, teine_sõna, mudel.wv.similarity(üks_sõna, teine_sõna))\n",
        "\n",
        "print(\"\")"
      ],
      "execution_count": 4,
      "outputs": [
        {
          "output_type": "stream",
          "text": [
            "kuninga ja röövli sarnasus: 0.51674026\n",
            "kuninga ja kuninganna sarnasus: 0.7096328\n",
            "\n",
            "kass kiisu 0.7609651\n",
            "kass kassipoeg 0.7572082\n",
            "kass taim 0.57038826\n",
            "kass tubli 0.38769445\n",
            "koer tubli 0.37627256\n",
            "laud laua 0.5160027\n",
            "laud laul 0.36953387\n",
            "\n"
          ],
          "name": "stdout"
        }
      ]
    },
    {
      "cell_type": "markdown",
      "metadata": {
        "id": "3Uxm_L3yAP-O"
      },
      "source": [
        "Seejuures on oluline aru saada, et tegu on empiirilise sarnasuse hinnanguga, mis ei pruugi täpselt ühtida meie arusaamaga sünonüümidest või sõnade sarnasusest üldiselt.\n",
        "\n",
        "**Teine harjutus:** leiame ette antud sõna kõige lähimad \"naabrid\" ehk nendega kõige sarnasemad sõnad (vastavalt word2vec mudelile)."
      ]
    },
    {
      "cell_type": "code",
      "metadata": {
        "id": "TU_jaVXCF2UT",
        "colab": {
          "base_uri": "https://localhost:8080/"
        },
        "outputId": "72dffddd-13c0-4c3c-daf5-2eb7684274d8"
      },
      "source": [
        "def kuva_sarnaseimad(mudel, sõna = None, vektor = None, mitu = 13):\n",
        "  if vektor is not None:\n",
        "    topn = mudel.similar_by_vector(vektor, topn=mitu)\n",
        "  else:\n",
        "    topn = mudel.similar_by_word(sõna, topn=mitu)\n",
        "\n",
        "  print(\"Sõnaga '{0}' {1} sarnaseimat sõna:\".format(sõna, mitu))\n",
        "  print(\"\\n\".join([sarnane_sõna + \": \" + str(sarnasus) for sarnane_sõna, sarnasus in topn]))\n",
        "  print(\"\")\n",
        "\n",
        "kuva_sarnaseimad(mudel, sõna = \"mõte\", mitu = 5)\n",
        "\n",
        "for sõna in \"kass koer armastus värv telefon sai\".split():\n",
        "  kuva_sarnaseimad(mudel, sõna = sõna, mitu = 5)"
      ],
      "execution_count": 5,
      "outputs": [
        {
          "output_type": "stream",
          "text": [
            "Sõnaga 'mõte' 5 sarnaseimat sõna:\n",
            "idee: 0.7537893056869507\n",
            "säde: 0.7470536231994629\n",
            "paralleel: 0.7390496730804443\n",
            "uitmõte: 0.7383795976638794\n",
            "ajend: 0.7240839004516602\n",
            "\n",
            "Sõnaga 'kass' 5 sarnaseimat sõna:\n",
            "koer: 0.8484876751899719\n",
            "isane: 0.798509955406189\n",
            "lapselaps: 0.7614974975585938\n",
            "kiisu: 0.7609650492668152\n",
            "kassipoeg: 0.7572082281112671\n",
            "\n",
            "Sõnaga 'koer' 5 sarnaseimat sõna:\n",
            "kass: 0.8484877347946167\n",
            "isane: 0.8186787366867065\n",
            "kiisu: 0.8067450523376465\n",
            "loom: 0.804841160774231\n",
            "pruut: 0.78680419921875\n",
            "\n",
            "Sõnaga 'armastus' 5 sarnaseimat sõna:\n",
            "kirg: 0.8033260107040405\n",
            "kiindumus: 0.7593796253204346\n",
            "vaim: 0.7496028542518616\n",
            "taevalik: 0.7489062547683716\n",
            "kurbus: 0.7482450604438782\n",
            "\n",
            "Sõnaga 'värv' 5 sarnaseimat sõna:\n",
            "jumestuskreem: 0.8213196992874146\n",
            "aroom: 0.7986755967140198\n",
            "oranž: 0.7984172701835632\n",
            "liturgiline: 0.7956861853599548\n",
            "värvus: 0.7928823828697205\n",
            "\n",
            "Sõnaga 'telefon' 5 sarnaseimat sõna:\n",
            "mobiil: 0.7627392411231995\n",
            "mobiiltelefon: 0.7473754286766052\n",
            "pastakas: 0.7355202436447144\n",
            "ämber: 0.7283893823623657\n",
            "rahakott: 0.7276158928871155\n",
            "\n",
            "Sõnaga 'sai' 5 sarnaseimat sõna:\n",
            "said: 0.795577883720398\n",
            "saanud: 0.7710549831390381\n",
            "saigi: 0.745381236076355\n",
            "teenis: 0.7134246826171875\n",
            "saadi: 0.6760282516479492\n",
            "\n"
          ],
          "name": "stdout"
        },
        {
          "output_type": "stream",
          "text": [
            "/usr/local/lib/python3.7/dist-packages/ipykernel_launcher.py:5: DeprecationWarning: Call to deprecated `similar_by_word` (Method will be removed in 4.0.0, use self.wv.similar_by_word() instead).\n",
            "  \"\"\"\n"
          ],
          "name": "stderr"
        }
      ]
    },
    {
      "cell_type": "markdown",
      "metadata": {
        "id": "l-aGZvbZLzDA"
      },
      "source": [
        "Kui proovida mitmetähenduslike sõnade vektoreid (nt \"sai\"), siis ilmneb kohe üks probleem fikseeritud vektoresitustega: nimelt on igale sõnale ainult üks vektor, mis peab katma kõiki selle sõna tähendusi. Sõna \"sai\" puhul tundub, et selle vektor esindab rohkem tegusõna \"saama\" kui pagaritoodet.\n",
        "\n",
        "**Kolmas harjutus:** osutub, et lisaks sarnasuse umbkaudsele modelleerimisele alluvad word2vec vektorid imelikule kuid lõbusale aritmeetikale. Nimelt, mis juhtub, kui nt sõna \"ilves\" vektorist lahutada maha \"eesti\", kuid liita \"ukraina\"? Sarnaseimate sõnade nimekirjas leiame Ukraina presidendi nime.  Sellise \"aritmeetika\" oodatav vastus ei ole alati esimene, kuid satub sageli top-5 hulka. \n",
        "\n",
        "Teine lõbus näide on, et \"prints - mees + naine\" on \"printsess\" :-D \n",
        "\n",
        "Mõelge ise välja mõned näited, kus see aritmeetika töötada võiks, ning proovige neid järgneva koodi modifitseerimise abil."
      ]
    },
    {
      "cell_type": "code",
      "metadata": {
        "id": "IfIfGt490vzu",
        "colab": {
          "base_uri": "https://localhost:8080/"
        },
        "outputId": "a434a3e5-52ce-4aca-d1a4-faa28df8bedb"
      },
      "source": [
        "kuva_sarnaseimad(mudel, mitu = 5, vektor = mudel.wv['ilves'] - mudel.wv['eesti'] + mudel.wv['ukraina'], sõna = \"ilves-eesti+ukraina\")\n",
        "kuva_sarnaseimad(mudel, mitu = 5, vektor = mudel.wv['prints'] - mudel.wv['mees'] + mudel.wv['naine'], sõna = \"prints-mees+naine\")\n",
        "kuva_sarnaseimad(mudel, mitu = 5, vektor = mudel.wv['tallinn'] - mudel.wv['eesti'] + mudel.wv['läti'], sõna = \"tallinn-eesti+läti\")"
      ],
      "execution_count": 6,
      "outputs": [
        {
          "output_type": "stream",
          "text": [
            "Sõnaga 'ilves-eesti+ukraina' 5 sarnaseimat sõna:\n",
            "putin: 0.7550578117370605\n",
            "ilves: 0.7533096671104431\n",
            "petro: 0.7522073984146118\n",
            "porošenko: 0.7507251501083374\n",
            "riigipea: 0.7196485996246338\n",
            "\n",
            "Sõnaga 'prints-mees+naine' 5 sarnaseimat sõna:\n",
            "prints: 0.9505405426025391\n",
            "printsess: 0.834510326385498\n",
            "hertsoginna: 0.8296248316764832\n",
            "williami: 0.815324068069458\n",
            "catherine: 0.8020913004875183\n",
            "\n",
            "Sõnaga 'tallinn-eesti+läti' 5 sarnaseimat sõna:\n",
            "tallinn: 0.7851227521896362\n",
            "riia: 0.6587557196617126\n",
            "stockholm: 0.6114889979362488\n",
            "pariis: 0.6047160625457764\n",
            "oslo: 0.5991486310958862\n",
            "\n"
          ],
          "name": "stdout"
        },
        {
          "output_type": "stream",
          "text": [
            "/usr/local/lib/python3.7/dist-packages/ipykernel_launcher.py:3: DeprecationWarning: Call to deprecated `similar_by_vector` (Method will be removed in 4.0.0, use self.wv.similar_by_vector() instead).\n",
            "  This is separate from the ipykernel package so we can avoid doing imports until\n"
          ],
          "name": "stderr"
        }
      ]
    },
    {
      "cell_type": "markdown",
      "metadata": {
        "id": "ixxYf48GYdQM"
      },
      "source": [
        "Kõik! Soovi korral võite muidugi proovida, kuidas töötab sama lähenemine teiste korpuste puhul, asendades tekstikorpuse URL-i harjutuse alguses järgmistega, näiteks:\n",
        "* [eestikeelsed uudised aastast 2017](http://data.statmt.org/wmt18/translation-task/news.2017.et.shuffled.deduped.gz)\n",
        "* [venekeelsed uudised](http://data.statmt.org/wmt17/translation-task/news.2016.ru.shuffled.gz)\n",
        "* [europarlamendi istungite soomekeelsed protokollid](http://statmt.org/wmt15/europarl-v8.fi.tgz)\n",
        "* [samade istungite inglisekeelsed protokollid](http://statmt.org/wmt14/training-monolingual-europarl-v7/europarl-v7.en.gz)\n",
        "\n",
        "Edu!"
      ]
    }
  ]
}