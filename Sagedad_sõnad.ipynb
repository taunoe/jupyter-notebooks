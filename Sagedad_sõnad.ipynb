{
  "nbformat": 4,
  "nbformat_minor": 0,
  "metadata": {
    "colab": {
      "name": "Sagedad sõnad",
      "provenance": [],
      "collapsed_sections": [],
      "include_colab_link": true
    },
    "kernelspec": {
      "name": "python3",
      "display_name": "Python 3"
    }
  },
  "cells": [
    {
      "cell_type": "markdown",
      "metadata": {
        "id": "view-in-github",
        "colab_type": "text"
      },
      "source": [
        "<a href=\"https://colab.research.google.com/github/taunoe/jupyter-notebooks/blob/main/Sagedad_s%C3%B5nad.ipynb\" target=\"_parent\"><img src=\"https://colab.research.google.com/assets/colab-badge.svg\" alt=\"Open In Colab\"/></a>"
      ]
    },
    {
      "cell_type": "markdown",
      "metadata": {
        "id": "GInfrjKUYV50"
      },
      "source": [
        "# Sagedad sõnad\n",
        "\n",
        "*Praktilise näite autor: Mark Fišel*\n",
        "\n",
        "Selles praktilises näites vaatame, kui suurt osakaalu tekstist moodustavad selle kõige sagedamad sõnad. Näiteks vastame küsimusele, kui suurest osast keelest (tekstist) me aru saame, kui teme ainult 100 sagedaimat sõna. Arvestame sõnade algvorme, ning nende leidmiseks kasutame EstNLTK-d.\n",
        "\n",
        "Kõigepealt laeme alla tekstikorpuse, kus on 2015. aasta uudisartiklid eesti ajalehtedest."
      ]
    },
    {
      "cell_type": "code",
      "metadata": {
        "id": "pAOUhNtu5DCB",
        "colab": {
          "base_uri": "https://localhost:8080/"
        },
        "outputId": "3cf0635b-0e3c-4208-afd3-c29750e0ff1c"
      },
      "source": [
        "!wget http://data.statmt.org/wmt18/translation-task/news.2015.et.shuffled.deduped.gz\n",
        "!gunzip news.2015.et.shuffled.deduped.gz\n",
        "!wc -lw news.2015.et.shuffled.deduped"
      ],
      "execution_count": 1,
      "outputs": [
        {
          "output_type": "stream",
          "text": [
            "--2021-04-14 05:39:09--  http://data.statmt.org/wmt18/translation-task/news.2015.et.shuffled.deduped.gz\n",
            "Resolving data.statmt.org (data.statmt.org)... 129.215.197.184\n",
            "Connecting to data.statmt.org (data.statmt.org)|129.215.197.184|:80... connected.\n",
            "HTTP request sent, awaiting response... 200 OK\n",
            "Length: 44528040 (42M) [application/x-gzip]\n",
            "Saving to: ‘news.2015.et.shuffled.deduped.gz’\n",
            "\n",
            "news.2015.et.shuffl 100%[===================>]  42.46M  5.76MB/s    in 8.0s    \n",
            "\n",
            "2021-04-14 05:39:18 (5.30 MB/s) - ‘news.2015.et.shuffled.deduped.gz’ saved [44528040/44528040]\n",
            "\n",
            "   962663  13002539 news.2015.et.shuffled.deduped\n"
          ],
          "name": "stdout"
        }
      ]
    },
    {
      "cell_type": "markdown",
      "metadata": {
        "id": "YWgqDupJt1Su"
      },
      "source": [
        "Nagu näha, on korpuses kokku 962 tuhat lauset ja 13 miljonit sõna.\n",
        "\n",
        "Edasi installime EstNLTK."
      ]
    },
    {
      "cell_type": "code",
      "metadata": {
        "id": "XQz6L284ofYh",
        "colab": {
          "base_uri": "https://localhost:8080/"
        },
        "outputId": "6b84cb80-c891-4b0b-bd90-0ab179aea578"
      },
      "source": [
        "!pip install -i https://test.pypi.org/simple/ --extra-index-url https://pypi.org/simple  estnltk==1.6.7beta"
      ],
      "execution_count": 3,
      "outputs": [
        {
          "output_type": "stream",
          "text": [
            "Looking in indexes: https://test.pypi.org/simple/, https://pypi.org/simple\n",
            "Collecting estnltk==1.6.7beta\n",
            "\u001b[?25l  Downloading https://test-files.pythonhosted.org/packages/5d/a3/aff6246047f1b67b1263275b7cf8fbe304c2d254936177bf2a7006fe6b3e/estnltk-1.6.7b0-cp37-cp37m-manylinux2014_x86_64.whl (99.4MB)\n",
            "\u001b[K     |████████████████████████████████| 99.4MB 59kB/s \n",
            "\u001b[?25hCollecting conllu>=3.1.1; python_version >= \"3.6\"\n",
            "  Downloading https://files.pythonhosted.org/packages/ae/be/be6959c3ff2dbfdd87de4be0ccdff577835b5d08b1d25bf7fd4aaf0d7add/conllu-4.4-py2.py3-none-any.whl\n",
            "Requirement already satisfied: networkx in /usr/local/lib/python3.7/dist-packages (from estnltk==1.6.7beta) (2.5.1)\n",
            "Requirement already satisfied: bs4 in /usr/local/lib/python3.7/dist-packages (from estnltk==1.6.7beta) (0.0.1)\n",
            "Requirement already satisfied: regex>=2015.07.19 in /usr/local/lib/python3.7/dist-packages (from estnltk==1.6.7beta) (2019.12.20)\n",
            "Collecting cached-property>=1.2.0\n",
            "  Downloading https://files.pythonhosted.org/packages/48/19/f2090f7dad41e225c7f2326e4cfe6fff49e57dedb5b53636c9551f86b069/cached_property-1.5.2-py2.py3-none-any.whl\n",
            "Requirement already satisfied: lxml in /usr/local/lib/python3.7/dist-packages (from estnltk==1.6.7beta) (4.2.6)\n",
            "Requirement already satisfied: matplotlib in /usr/local/lib/python3.7/dist-packages (from estnltk==1.6.7beta) (3.2.2)\n",
            "Collecting python-crfsuite>=0.8.3\n",
            "\u001b[?25l  Downloading https://files.pythonhosted.org/packages/79/47/58f16c46506139f17de4630dbcfb877ce41a6355a1bbf3c443edb9708429/python_crfsuite-0.9.7-cp37-cp37m-manylinux1_x86_64.whl (743kB)\n",
            "\u001b[K     |████████████████████████████████| 747kB 5.6MB/s \n",
            "\u001b[?25hRequirement already satisfied: html5lib in /usr/local/lib/python3.7/dist-packages (from estnltk==1.6.7beta) (1.0.1)\n",
            "Requirement already satisfied: requests in /usr/local/lib/python3.7/dist-packages (from estnltk==1.6.7beta) (2.23.0)\n",
            "Requirement already satisfied: ipython in /usr/local/lib/python3.7/dist-packages (from estnltk==1.6.7beta) (5.5.0)\n",
            "Requirement already satisfied: pandas>=1.1.5; python_version > \"3.6\" in /usr/local/lib/python3.7/dist-packages (from estnltk==1.6.7beta) (1.1.5)\n",
            "Requirement already satisfied: nltk>=3.0.4 in /usr/local/lib/python3.7/dist-packages (from estnltk==1.6.7beta) (3.2.5)\n",
            "Requirement already satisfied: tqdm in /usr/local/lib/python3.7/dist-packages (from estnltk==1.6.7beta) (4.41.1)\n",
            "Requirement already satisfied: decorator<5,>=4.3 in /usr/local/lib/python3.7/dist-packages (from networkx->estnltk==1.6.7beta) (4.4.2)\n",
            "Requirement already satisfied: beautifulsoup4 in /usr/local/lib/python3.7/dist-packages (from bs4->estnltk==1.6.7beta) (4.6.3)\n",
            "Requirement already satisfied: python-dateutil>=2.1 in /usr/local/lib/python3.7/dist-packages (from matplotlib->estnltk==1.6.7beta) (2.8.1)\n",
            "Requirement already satisfied: numpy>=1.11 in /usr/local/lib/python3.7/dist-packages (from matplotlib->estnltk==1.6.7beta) (1.19.5)\n",
            "Requirement already satisfied: pyparsing!=2.0.4,!=2.1.2,!=2.1.6,>=2.0.1 in /usr/local/lib/python3.7/dist-packages (from matplotlib->estnltk==1.6.7beta) (2.4.7)\n",
            "Requirement already satisfied: kiwisolver>=1.0.1 in /usr/local/lib/python3.7/dist-packages (from matplotlib->estnltk==1.6.7beta) (1.3.1)\n",
            "Requirement already satisfied: cycler>=0.10 in /usr/local/lib/python3.7/dist-packages (from matplotlib->estnltk==1.6.7beta) (0.10.0)\n",
            "Requirement already satisfied: six>=1.9 in /usr/local/lib/python3.7/dist-packages (from html5lib->estnltk==1.6.7beta) (1.15.0)\n",
            "Requirement already satisfied: webencodings in /usr/local/lib/python3.7/dist-packages (from html5lib->estnltk==1.6.7beta) (0.5.1)\n",
            "Requirement already satisfied: chardet<4,>=3.0.2 in /usr/local/lib/python3.7/dist-packages (from requests->estnltk==1.6.7beta) (3.0.4)\n",
            "Requirement already satisfied: idna<3,>=2.5 in /usr/local/lib/python3.7/dist-packages (from requests->estnltk==1.6.7beta) (2.10)\n",
            "Requirement already satisfied: urllib3!=1.25.0,!=1.25.1,<1.26,>=1.21.1 in /usr/local/lib/python3.7/dist-packages (from requests->estnltk==1.6.7beta) (1.24.3)\n",
            "Requirement already satisfied: certifi>=2017.4.17 in /usr/local/lib/python3.7/dist-packages (from requests->estnltk==1.6.7beta) (2020.12.5)\n",
            "Requirement already satisfied: prompt-toolkit<2.0.0,>=1.0.4 in /usr/local/lib/python3.7/dist-packages (from ipython->estnltk==1.6.7beta) (1.0.18)\n",
            "Requirement already satisfied: traitlets>=4.2 in /usr/local/lib/python3.7/dist-packages (from ipython->estnltk==1.6.7beta) (5.0.5)\n",
            "Requirement already satisfied: pexpect; sys_platform != \"win32\" in /usr/local/lib/python3.7/dist-packages (from ipython->estnltk==1.6.7beta) (4.8.0)\n",
            "Requirement already satisfied: setuptools>=18.5 in /usr/local/lib/python3.7/dist-packages (from ipython->estnltk==1.6.7beta) (54.2.0)\n",
            "Requirement already satisfied: simplegeneric>0.8 in /usr/local/lib/python3.7/dist-packages (from ipython->estnltk==1.6.7beta) (0.8.1)\n",
            "Requirement already satisfied: pygments in /usr/local/lib/python3.7/dist-packages (from ipython->estnltk==1.6.7beta) (2.6.1)\n",
            "Requirement already satisfied: pickleshare in /usr/local/lib/python3.7/dist-packages (from ipython->estnltk==1.6.7beta) (0.7.5)\n",
            "Requirement already satisfied: pytz>=2017.2 in /usr/local/lib/python3.7/dist-packages (from pandas>=1.1.5; python_version > \"3.6\"->estnltk==1.6.7beta) (2018.9)\n",
            "Requirement already satisfied: wcwidth in /usr/local/lib/python3.7/dist-packages (from prompt-toolkit<2.0.0,>=1.0.4->ipython->estnltk==1.6.7beta) (0.2.5)\n",
            "Requirement already satisfied: ipython-genutils in /usr/local/lib/python3.7/dist-packages (from traitlets>=4.2->ipython->estnltk==1.6.7beta) (0.2.0)\n",
            "Requirement already satisfied: ptyprocess>=0.5 in /usr/local/lib/python3.7/dist-packages (from pexpect; sys_platform != \"win32\"->ipython->estnltk==1.6.7beta) (0.7.0)\n",
            "Installing collected packages: conllu, cached-property, python-crfsuite, estnltk\n",
            "Successfully installed cached-property-1.5.2 conllu-4.4 estnltk-1.6.7b0 python-crfsuite-0.9.7\n"
          ],
          "name": "stdout"
        }
      ]
    },
    {
      "cell_type": "markdown",
      "metadata": {
        "id": "wxltZ5gKt8du"
      },
      "source": [
        "Järgmisena otsustame, mitu sagedaimat sõna meid huvitab. Proovige muuta muutuja \"top_sõnade_arv\" väärtust 100 asemel 200ks või 500ks.\n",
        "\n",
        "Samuti piirame me lausete arvu töötlemiseks, kuna algvormide analüüs võtab aega. Näiteks, 3000 lause töötlemine võtab umbes 2 minutit aega. Kui viitsite kauem oodata, võite töödelda rohkem lauseid:"
      ]
    },
    {
      "cell_type": "code",
      "metadata": {
        "id": "J4KndikGucEc"
      },
      "source": [
        "top_sõnade_arv = 100\n",
        "mitu_lauset_lugeda = 3000"
      ],
      "execution_count": 4,
      "outputs": []
    },
    {
      "cell_type": "markdown",
      "metadata": {
        "id": "xyJBGTJiue0K"
      },
      "source": [
        "Nüüd loeme teksti sisse:"
      ]
    },
    {
      "cell_type": "code",
      "metadata": {
        "id": "I3b-roZsuhyc",
        "colab": {
          "base_uri": "https://localhost:8080/"
        },
        "outputId": "663ad880-6321-4073-8c3d-ec7600590460"
      },
      "source": [
        "laused = []\n",
        "\n",
        "with open('news.2015.et.shuffled.deduped', 'r') as fh:\n",
        "  while len(laused) < mitu_lauset_lugeda:\n",
        "    laused.append(fh.readline())\n",
        "\n",
        "toortekst = \" \".join(laused)\n",
        "\n",
        "print(\"Esimene lause: \", laused[0])\n",
        "print(\"Viimane lause: \", laused[-1])"
      ],
      "execution_count": 5,
      "outputs": [
        {
          "output_type": "stream",
          "text": [
            "Esimene lause:  Flush annab hädalisele teada, millised WCd tema läheduses leiduvad, kas need maksulised või sobilikud näiteks ratastoolis istujale.\n",
            "\n",
            "Viimane lause:  Lõppude lõpuks on käimas ju ettevalmistused Oscarite galaks - seda tahavad kindlasti paljud näha!\n",
            "\n"
          ],
          "name": "stdout"
        }
      ]
    },
    {
      "cell_type": "markdown",
      "metadata": {
        "id": "QJWTd3bKurO5"
      },
      "source": [
        "Järgmisena koostame kõikide sõnade nimekirja.\n",
        "\n",
        "Selles kohas on teie ülesanne muuta koodi nii, et sõnavormide asemel arvestaks programm algvorme. Selleks asendage järgmise koodijupi esimesel koodireal \"kasuta_algvorme\" muutuja väärtust uue väärtusega \"True\", ning käivitage kood uuesti.\n",
        "\n",
        "**Selle koodijupi käivitamine võtab vähemalt paar minutit aega.**"
      ]
    },
    {
      "cell_type": "code",
      "metadata": {
        "id": "rWQib16OvPrs",
        "colab": {
          "base_uri": "https://localhost:8080/"
        },
        "outputId": "6ca5aaf8-b776-4237-fc4e-989230d32fa2"
      },
      "source": [
        "kasuta_algvorme = True\n",
        "\n",
        "import re\n",
        "from estnltk import Text\n",
        "\n",
        "analüüsitud_tekst = Text(toortekst)\n",
        "_ = analüüsitud_tekst.tag_layer()\n",
        "\n",
        "teksti_sõnad = []\n",
        "\n",
        "for lause in analüüsitud_tekst.sentences:\n",
        "  teksti_sõnad += [(sõna.morph_analysis.lemma[0] if kasuta_algvorme else sõna.text) for sõna in lause if re.search(r'[a-zäöüõšž]', sõna.text)]"
      ],
      "execution_count": 7,
      "outputs": [
        {
          "output_type": "stream",
          "text": [
            "[nltk_data] Downloading package punkt to /root/nltk_data...\n",
            "[nltk_data]   Unzipping tokenizers/punkt.zip.\n"
          ],
          "name": "stdout"
        }
      ]
    },
    {
      "cell_type": "markdown",
      "metadata": {
        "id": "ZWdPzqauvQSX"
      },
      "source": [
        "Nüüd koostame N sagedaima sõna (algvormi) nimekirja."
      ]
    },
    {
      "cell_type": "code",
      "metadata": {
        "id": "csl2hQIQxGMh",
        "colab": {
          "base_uri": "https://localhost:8080/"
        },
        "outputId": "6ca37ff0-cf26-4591-eeb1-50073d03a44c"
      },
      "source": [
        "from nltk import FreqDist\n",
        "sagedused = FreqDist(teksti_sõnad)\n",
        "\n",
        "n_sagedaimat_sõna = {sõna for sõna,_ in sagedused.most_common(top_sõnade_arv)}\n",
        "\n",
        "print(\"10 sagedaimat sõnet:\")\n",
        "for sõna, sagedus in sagedused.most_common(10):\n",
        "  print(\"{0} ({1})\".format(sõna, sagedus))"
      ],
      "execution_count": 8,
      "outputs": [
        {
          "output_type": "stream",
          "text": [
            "10 sagedaimat sõnet:\n",
            "olema (1713)\n",
            "ja (1045)\n",
            "see (616)\n",
            "et (541)\n",
            "tema (454)\n",
            "ei (369)\n",
            "kui (343)\n",
            "mis (333)\n",
            "ka (322)\n",
            "ning (306)\n"
          ],
          "name": "stdout"
        }
      ]
    },
    {
      "cell_type": "markdown",
      "metadata": {
        "id": "wqrf1PDPxGgw"
      },
      "source": [
        " Lõpuks arvutame N sagedaima sõna (algvormi) osakaalu terves tekstis."
      ]
    },
    {
      "cell_type": "code",
      "metadata": {
        "id": "PgqUzLPHl0dm",
        "colab": {
          "base_uri": "https://localhost:8080/"
        },
        "outputId": "8efb2b3f-4bf8-4936-cc07-dcef1931f8ac"
      },
      "source": [
        "sagedaimate_sõnade_arv = sum([1 for sõna in teksti_sõnad if sõna in n_sagedaimat_sõna])\n",
        "\n",
        "print(\"Lauseid: {0}\".format(len(laused)))\n",
        "print(\"Sõnu: {0}\".format(len(teksti_sõnad)))\n",
        "print(\"{0} sagedaima sõna osakaal tekstis: {1:0.4}%\".format(top_sõnade_arv, 100 * sagedaimate_sõnade_arv / len(teksti_sõnad)))"
      ],
      "execution_count": 9,
      "outputs": [
        {
          "output_type": "stream",
          "text": [
            "Lauseid: 3000\n",
            "Sõnu: 39091\n",
            "100 sagedaima sõna osakaal tekstis: 34.08%\n"
          ],
          "name": "stdout"
        }
      ]
    }
  ]
}